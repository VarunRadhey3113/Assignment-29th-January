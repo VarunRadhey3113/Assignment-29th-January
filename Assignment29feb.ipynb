{
 "cells": [
  {
   "cell_type": "code",
   "execution_count": 1,
   "id": "0ff81b7d-bf3f-49c8-91bf-9967b7496818",
   "metadata": {},
   "outputs": [],
   "source": [
    "''' Q1.   Who developed Python Programming Language?\n",
    "    Ans:- Python is developed by Guido van Rossum, which is launch in 1991.'''"
   ]
  },
  {
   "cell_type": "code",
   "execution_count": 1,
   "id": "eefee243-a526-48ae-b553-7c97443a537a",
   "metadata": {},
   "outputs": [],
   "source": [
    "''' Q2.   Which type of Programming does Python support?\n",
    "    Ans:- Python is an object-oriented interactive, interpreted programming language. It supports structured, and functional programming.'''"
   ]
  },
  {
   "cell_type": "code",
   "execution_count": 1,
   "id": "ff322bab-6b03-4560-8a12-c5e728b552ee",
   "metadata": {},
   "outputs": [],
   "source": [
    "''' Q3.   Is Python case sensitive when dealing with identifiers?\n",
    "    Ans:- Yes, Python is a case sensitive language in terms of upper case and lower case it treats both differently and Python is also identifier sensitive \n",
    "        in identifiers we should always avoid using same names in different cases while naming it.'''"
   ]
  },
  {
   "cell_type": "code",
   "execution_count": 1,
   "id": "7b7f5b4b-6a07-4457-a9a8-ae598f10a64a",
   "metadata": {},
   "outputs": [],
   "source": [
    "''' Q4.   What is the correct extension of the Python file?\n",
    "    Ans:- The correct extension of the Python is .py, .pyi, .pyc, .pyd, .pyo, .pyw, .pyz.'''"
   ]
  },
  {
   "cell_type": "code",
   "execution_count": 1,
   "id": "b74823f4-ff5b-42a8-8d9f-45cecd8dba96",
   "metadata": {},
   "outputs": [],
   "source": [
    "''' Q5.   Is Python code compiled or interpreted?\n",
    "    Ans:- Python is an interpreted language.'''"
   ]
  },
  {
   "cell_type": "code",
   "execution_count": 1,
   "id": "a9e2986b-2472-463b-be3d-f4398a8ae569",
   "metadata": {},
   "outputs": [
    {
     "name": "stdout",
     "output_type": "stream",
     "text": [
      "0\n",
      "1\n",
      "2\n",
      "3\n",
      "4\n",
      "5\n",
      "6\n",
      "7\n",
      "8\n",
      "9\n",
      "10\n",
      "11\n"
     ]
    }
   ],
   "source": [
    "'''Q6.   Name a few blocks of code used to define in Python language? \n",
    "   Ans:- Writing 0 to 12 by using while loop.'''\n",
    "i = 0 \n",
    "while i < 12 :\n",
    "     print(i)\n",
    "     i += 1"
   ]
  },
  {
   "cell_type": "code",
   "execution_count": 7,
   "id": "489fdf30-6b69-42bd-9f94-9a33047caeb4",
   "metadata": {},
   "outputs": [
    {
     "name": "stdout",
     "output_type": "stream",
     "text": [
      "0\n",
      "2\n",
      "4\n",
      "6\n",
      "8\n",
      "10\n",
      "12\n"
     ]
    }
   ],
   "source": [
    "for i in range(7) :\n",
    "    print (i * 2)"
   ]
  },
  {
   "cell_type": "code",
   "execution_count": 1,
   "id": "b1a5adef-06ad-45e0-b29a-59d60e2e5238",
   "metadata": {},
   "outputs": [],
   "source": [
    "''' Q7.   State a character used to give single-line comments in Python?\n",
    "    Ans:- # is used to give single lime comment in Python.'''"
   ]
  },
  {
   "cell_type": "code",
   "execution_count": 1,
   "id": "5bc6f5cc-f604-4126-9c12-ebf20f1dde9d",
   "metadata": {},
   "outputs": [],
   "source": [
    "''' Q8.   Mention functions which can help us in find the version of Python that we are currently working on?\n",
    "    Ans:- python --version is use to find version of Python that we are currently working on.'''"
   ]
  },
  {
   "cell_type": "code",
   "execution_count": 1,
   "id": "18d39435-30ca-41c2-aea9-250130718267",
   "metadata": {},
   "outputs": [],
   "source": [
    "''' Q9.   Python supports the creation of anonymous functions at runtime, using a construct called ___________?\n",
    "    Ans:   lamda.'''"
   ]
  },
  {
   "cell_type": "code",
   "execution_count": 1,
   "id": "edcca595-4bc1-4560-8a59-6ebc9a644f6c",
   "metadata": {},
   "outputs": [],
   "source": [
    "'''Q10.  What does pip stand for Python?\n",
    "   Ans:- Pip stand for preferred installer program.'''"
   ]
  },
  {
   "cell_type": "code",
   "execution_count": 1,
   "id": "b4087688-892c-48a7-b890-0c1746a14fa1",
   "metadata": {},
   "outputs": [],
   "source": [
    "''' Q11.  Mention a few built-in functions in Python?\n",
    "    Ans:- Few built-in functions in Python are print(), lower(), upper(), find(), value(), append(), extend(), type(), int(), input(), etc.'''"
   ]
  },
  {
   "cell_type": "code",
   "execution_count": 1,
   "id": "661249d5-30dc-46bc-93b5-4d8a24011a8b",
   "metadata": {},
   "outputs": [],
   "source": [
    "''' Q12.  What is the maximum possible length of an identifier in Python?\n",
    "    Ans:- The maximun possible length of an identifier in Python is 79.'''"
   ]
  },
  {
   "cell_type": "code",
   "execution_count": 1,
   "id": "94df26b8-b60a-449b-ba0b-e9d4cc7d04df",
   "metadata": {},
   "outputs": [
    {
     "ename": "SyntaxError",
     "evalue": "invalid non-printable character U+200B (4104413549.py, line 97)",
     "output_type": "error",
     "traceback": [
      "\u001b[0;36m  Cell \u001b[0;32mIn [1], line 97\u001b[0;36m\u001b[0m\n\u001b[0;31m    ​\u001b[0m\n\u001b[0m    ^\u001b[0m\n\u001b[0;31mSyntaxError\u001b[0m\u001b[0;31m:\u001b[0m invalid non-printable character U+200B\n"
     ]
    }
   ],
   "source": [
    "''' Q13.  What are the benefits of using Python?\n",
    "    Ans:- 1.Python is general purpose, high level interpreted programming language.\n",
    "          2.Python is a simple and easy to learn syntax, which emphasizes readibility therefore reduces the cost of program maintanance.\n",
    "          3.The language is capable of scripting, completely open source and supports third party packages, actually incourages modularity and code reuseability.\n",
    "          4.Its high level data structure combined with dynamic typing and dynamic binding attracts huge community of developers for rapid application developement and deployment.'''"
   ]
  },
  {
   "cell_type": "code",
   "execution_count": 9,
   "id": "ae0be876-2d5b-4f87-9aab-bc4814d9205a",
   "metadata": {},
   "outputs": [],
   "source": [
    "''' Q14.  How is memory managed in Python?\n",
    "    Ans:- Memory in Python is managed by Python private heap space. All python objects and data structures are located in a private heap. This private heap is\n",
    "          taken care of by Python interpreter itself, and a programmer doesn't have access to this private heap.'''"
   ]
  },
  {
   "cell_type": "code",
   "execution_count": 10,
   "id": "8285e460-5e28-425a-b040-233c5c09568c",
   "metadata": {},
   "outputs": [],
   "source": [
    "''' Q15.  How to install Python on windows and set path variables?\n",
    "    Ans:- Step1. Connect your pc with internet and go to your web browser.\n",
    "          Step2. Type install Python and go in official website of Python.\n",
    "          Step3. Double click on intall Python.\n",
    "          Step4. Double click on downloaded file and install it.\n",
    "          Step5. After install Python go to search bar of your computer and search environmental variables and add Python path to your coumputer.'''"
   ]
  },
  {
   "cell_type": "code",
   "execution_count": null,
   "id": "af2b94cc-e506-449a-8a37-8d0fa99c042b",
   "metadata": {},
   "outputs": [],
   "source": [
    "''' Q16. Is indentation required in Python?\n",
    "    Ans:- Yes, indentation (space at the begning of a code line) in Python is very important.'''"
   ]
  }
 ],
 "metadata": {
  "kernelspec": {
   "display_name": "Python 3 (ipykernel)",
   "language": "python",
   "name": "python3"
  },
  "language_info": {
   "codemirror_mode": {
    "name": "ipython",
    "version": 3
   },
   "file_extension": ".py",
   "mimetype": "text/x-python",
   "name": "python",
   "nbconvert_exporter": "python",
   "pygments_lexer": "ipython3",
   "version": "3.10.6"
  }
 },
 "nbformat": 4,
 "nbformat_minor": 5
}
